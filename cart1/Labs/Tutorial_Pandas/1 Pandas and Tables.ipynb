{
 "cells": [
  {
   "cell_type": "markdown",
   "id": "49b05995",
   "metadata": {},
   "source": [
    "# Using Pandas for table data\n"
   ]
  },
  {
   "cell_type": "markdown",
   "id": "3aeec0fc",
   "metadata": {},
   "source": [
    "Raechel A. Portelli\n",
    "Updated: Sept. 29, 2021\n",
    "\n",
    "This document contains some of the most basic functions used to evaluate values in tables using pandas. A generic CSV file called CSV1 is used as a holder for a comma seperated value text file (.csv)\n",
    "\n",
    "With pandas you can string together functions using a period (.) and you call attributes using [''] notation. \n",
    "For a cheatsheet see: http://datacamp-community-prod.s3.amazonaws.com/f04456d7-8e61-482f-9cc9-da6f7f25fc9b"
   ]
  },
  {
   "cell_type": "code",
   "execution_count": 4,
   "id": "bb3a1bd8",
   "metadata": {},
   "outputs": [],
   "source": [
    "import pandas as pd \n",
    "import numpy as np"
   ]
  },
  {
   "cell_type": "code",
   "execution_count": 5,
   "id": "da8a62d9",
   "metadata": {},
   "outputs": [],
   "source": [
    "csv1 = pd.read_csv('CSV1.csv')"
   ]
  },
  {
   "cell_type": "markdown",
   "id": "679e8617",
   "metadata": {},
   "source": [
    "The general syntax is the file or package name [.] action()\n",
    "This can be illustrated with the example above or the one below. In cases where additional parameters are needed, they are put in the (). So for example, below we are asking to find the heading of the csv file, and limiting it to the first two rows."
   ]
  },
  {
   "cell_type": "code",
   "execution_count": 6,
   "id": "142c421f",
   "metadata": {},
   "outputs": [
    {
     "data": {
      "text/html": [
       "<div>\n",
       "<style scoped>\n",
       "    .dataframe tbody tr th:only-of-type {\n",
       "        vertical-align: middle;\n",
       "    }\n",
       "\n",
       "    .dataframe tbody tr th {\n",
       "        vertical-align: top;\n",
       "    }\n",
       "\n",
       "    .dataframe thead th {\n",
       "        text-align: right;\n",
       "    }\n",
       "</style>\n",
       "<table border=\"1\" class=\"dataframe\">\n",
       "  <thead>\n",
       "    <tr style=\"text-align: right;\">\n",
       "      <th></th>\n",
       "      <th>OBJECTID</th>\n",
       "      <th>Column_1</th>\n",
       "      <th>Column_2</th>\n",
       "      <th>Column_3</th>\n",
       "    </tr>\n",
       "  </thead>\n",
       "  <tbody>\n",
       "    <tr>\n",
       "      <th>0</th>\n",
       "      <td>0</td>\n",
       "      <td>1</td>\n",
       "      <td>2</td>\n",
       "      <td>0.1</td>\n",
       "    </tr>\n",
       "    <tr>\n",
       "      <th>1</th>\n",
       "      <td>1</td>\n",
       "      <td>3</td>\n",
       "      <td>4</td>\n",
       "      <td>0.2</td>\n",
       "    </tr>\n",
       "  </tbody>\n",
       "</table>\n",
       "</div>"
      ],
      "text/plain": [
       "   OBJECTID  Column_1  Column_2  Column_3\n",
       "0         0         1         2       0.1\n",
       "1         1         3         4       0.2"
      ]
     },
     "execution_count": 6,
     "metadata": {},
     "output_type": "execute_result"
    }
   ],
   "source": [
    "#To view header information for first two entries the CSV\n",
    "csv1.head(2)"
   ]
  },
  {
   "cell_type": "code",
   "execution_count": 7,
   "id": "e045c930",
   "metadata": {},
   "outputs": [
    {
     "name": "stdout",
     "output_type": "stream",
     "text": [
      "<class 'pandas.core.frame.DataFrame'>\n",
      "RangeIndex: 6 entries, 0 to 5\n",
      "Data columns (total 4 columns):\n",
      " #   Column    Non-Null Count  Dtype  \n",
      "---  ------    --------------  -----  \n",
      " 0   OBJECTID  6 non-null      int64  \n",
      " 1   Column_1  6 non-null      int64  \n",
      " 2   Column_2  6 non-null      int64  \n",
      " 3   Column_3  6 non-null      float64\n",
      "dtypes: float64(1), int64(3)\n",
      "memory usage: 320.0 bytes\n"
     ]
    }
   ],
   "source": [
    "#To see how many entries are available and their data type\n",
    "csv1.info()"
   ]
  },
  {
   "cell_type": "markdown",
   "id": "74601fca",
   "metadata": {},
   "source": [
    "When we want to select a subset of the dataframe, we can use []. In the example below, we select the column by its name using  brackets."
   ]
  },
  {
   "cell_type": "code",
   "execution_count": 8,
   "id": "e73086ca",
   "metadata": {},
   "outputs": [
    {
     "data": {
      "text/plain": [
       "<bound method Series.mean of 0     1\n",
       "1     3\n",
       "2     5\n",
       "3     7\n",
       "4     9\n",
       "5    11\n",
       "Name: Column_1, dtype: int64>"
      ]
     },
     "execution_count": 8,
     "metadata": {},
     "output_type": "execute_result"
    }
   ],
   "source": [
    "#To find the average for a column - missing ()\n",
    "csv1['Column_1'].mean"
   ]
  },
  {
   "cell_type": "code",
   "execution_count": 14,
   "id": "ae25d09e",
   "metadata": {},
   "outputs": [
    {
     "name": "stdout",
     "output_type": "stream",
     "text": [
      "OBJECTID    0.0\n",
      "Column_1    1.0\n",
      "Column_2    2.0\n",
      "Column_3    0.1\n",
      "Name: 0, dtype: float64\n"
     ]
    }
   ],
   "source": [
    "#Locate the first row of the dataset (row 0)\n",
    "print(csv1.iloc[0])"
   ]
  },
  {
   "cell_type": "code",
   "execution_count": 18,
   "id": "daaffd30",
   "metadata": {},
   "outputs": [
    {
     "name": "stdout",
     "output_type": "stream",
     "text": [
      "0     1\n",
      "1     3\n",
      "2     5\n",
      "3     7\n",
      "4     9\n",
      "5    11\n",
      "Name: Column_1, dtype: int64\n"
     ]
    }
   ],
   "source": [
    "#Locate the first column of the dataset (Column_1)\n",
    "print(csv1.loc[:,'Column_1'])"
   ]
  },
  {
   "cell_type": "code",
   "execution_count": 63,
   "id": "0981fcb7",
   "metadata": {},
   "outputs": [
    {
     "data": {
      "text/html": [
       "<div>\n",
       "<style scoped>\n",
       "    .dataframe tbody tr th:only-of-type {\n",
       "        vertical-align: middle;\n",
       "    }\n",
       "\n",
       "    .dataframe tbody tr th {\n",
       "        vertical-align: top;\n",
       "    }\n",
       "\n",
       "    .dataframe thead th {\n",
       "        text-align: right;\n",
       "    }\n",
       "</style>\n",
       "<table border=\"1\" class=\"dataframe\">\n",
       "  <thead>\n",
       "    <tr style=\"text-align: right;\">\n",
       "      <th></th>\n",
       "      <th>Column_2</th>\n",
       "    </tr>\n",
       "  </thead>\n",
       "  <tbody>\n",
       "    <tr>\n",
       "      <th>1</th>\n",
       "      <td>4</td>\n",
       "    </tr>\n",
       "  </tbody>\n",
       "</table>\n",
       "</div>"
      ],
      "text/plain": [
       "   Column_2\n",
       "1         4"
      ]
     },
     "execution_count": 63,
     "metadata": {},
     "output_type": "execute_result"
    }
   ],
   "source": [
    "#Select an individual entry based on the row and column (row - 1, column - Column_2)\n",
    "csv1.loc[[1], ['Column_2']] "
   ]
  },
  {
   "cell_type": "code",
   "execution_count": 9,
   "id": "6cd81b0f",
   "metadata": {},
   "outputs": [
    {
     "data": {
      "text/plain": [
       "6.0"
      ]
     },
     "execution_count": 9,
     "metadata": {},
     "output_type": "execute_result"
    }
   ],
   "source": [
    "#To find the average for a column - fixed ()\n",
    "csv1['Column_1'].mean()"
   ]
  },
  {
   "cell_type": "code",
   "execution_count": 64,
   "id": "51b73c0d",
   "metadata": {},
   "outputs": [
    {
     "data": {
      "text/plain": [
       "11"
      ]
     },
     "execution_count": 64,
     "metadata": {},
     "output_type": "execute_result"
    }
   ],
   "source": [
    "#To find the maximum value for a column of information \n",
    "csv1['Column_1'].max()"
   ]
  },
  {
   "cell_type": "code",
   "execution_count": 65,
   "id": "6b3f67f7",
   "metadata": {},
   "outputs": [
    {
     "data": {
      "text/html": [
       "<div>\n",
       "<style scoped>\n",
       "    .dataframe tbody tr th:only-of-type {\n",
       "        vertical-align: middle;\n",
       "    }\n",
       "\n",
       "    .dataframe tbody tr th {\n",
       "        vertical-align: top;\n",
       "    }\n",
       "\n",
       "    .dataframe thead th {\n",
       "        text-align: right;\n",
       "    }\n",
       "</style>\n",
       "<table border=\"1\" class=\"dataframe\">\n",
       "  <thead>\n",
       "    <tr style=\"text-align: right;\">\n",
       "      <th></th>\n",
       "      <th>OBJECTID</th>\n",
       "      <th>Column_1</th>\n",
       "      <th>Column_2</th>\n",
       "      <th>Column_3</th>\n",
       "    </tr>\n",
       "  </thead>\n",
       "  <tbody>\n",
       "    <tr>\n",
       "      <th>2</th>\n",
       "      <td>2</td>\n",
       "      <td>5</td>\n",
       "      <td>6</td>\n",
       "      <td>0.3</td>\n",
       "    </tr>\n",
       "  </tbody>\n",
       "</table>\n",
       "</div>"
      ],
      "text/plain": [
       "   OBJECTID  Column_1  Column_2  Column_3\n",
       "2         2         5         6       0.3"
      ]
     },
     "execution_count": 65,
     "metadata": {},
     "output_type": "execute_result"
    }
   ],
   "source": [
    "#Identify a specific entity\n",
    "csv1[csv1['OBJECTID'] == 2]"
   ]
  },
  {
   "cell_type": "code",
   "execution_count": 19,
   "id": "1535589d",
   "metadata": {},
   "outputs": [
    {
     "data": {
      "text/plain": [
       "2    0.3\n",
       "Name: Column_3, dtype: float64"
      ]
     },
     "execution_count": 19,
     "metadata": {},
     "output_type": "execute_result"
    }
   ],
   "source": [
    "#Identify another property of the entity(in this case we return the Column_3 value where the objectid is 2)\n",
    "csv1[csv1['OBJECTID'] == 2]['Column_3']"
   ]
  },
  {
   "cell_type": "code",
   "execution_count": 67,
   "id": "dd9704c7",
   "metadata": {},
   "outputs": [
    {
     "data": {
      "text/plain": [
       "5    5\n",
       "Name: OBJECTID, dtype: int64"
      ]
     },
     "execution_count": 67,
     "metadata": {},
     "output_type": "execute_result"
    }
   ],
   "source": [
    "#Identify a entity based on another maximum entity value\n",
    "csv1[csv1['Column_1']==csv1['Column_1'].max()]['OBJECTID']"
   ]
  },
  {
   "cell_type": "code",
   "execution_count": 68,
   "id": "9e1ee227",
   "metadata": {},
   "outputs": [
    {
     "data": {
      "text/html": [
       "<div>\n",
       "<style scoped>\n",
       "    .dataframe tbody tr th:only-of-type {\n",
       "        vertical-align: middle;\n",
       "    }\n",
       "\n",
       "    .dataframe tbody tr th {\n",
       "        vertical-align: top;\n",
       "    }\n",
       "\n",
       "    .dataframe thead th {\n",
       "        text-align: right;\n",
       "    }\n",
       "</style>\n",
       "<table border=\"1\" class=\"dataframe\">\n",
       "  <thead>\n",
       "    <tr style=\"text-align: right;\">\n",
       "      <th></th>\n",
       "      <th>OBJECTID</th>\n",
       "      <th>Column_1</th>\n",
       "      <th>Column_2</th>\n",
       "      <th>Column_3</th>\n",
       "    </tr>\n",
       "  </thead>\n",
       "  <tbody>\n",
       "    <tr>\n",
       "      <th>0</th>\n",
       "      <td>0</td>\n",
       "      <td>1</td>\n",
       "      <td>2</td>\n",
       "      <td>0.1</td>\n",
       "    </tr>\n",
       "  </tbody>\n",
       "</table>\n",
       "</div>"
      ],
      "text/plain": [
       "   OBJECTID  Column_1  Column_2  Column_3\n",
       "0         0         1         2       0.1"
      ]
     },
     "execution_count": 68,
     "metadata": {},
     "output_type": "execute_result"
    }
   ],
   "source": [
    "#Identify a specific entity\n",
    "csv1[csv1['Column_1'] == 1]"
   ]
  },
  {
   "cell_type": "code",
   "execution_count": 69,
   "id": "e484b0eb",
   "metadata": {},
   "outputs": [
    {
     "data": {
      "text/html": [
       "<div>\n",
       "<style scoped>\n",
       "    .dataframe tbody tr th:only-of-type {\n",
       "        vertical-align: middle;\n",
       "    }\n",
       "\n",
       "    .dataframe tbody tr th {\n",
       "        vertical-align: top;\n",
       "    }\n",
       "\n",
       "    .dataframe thead th {\n",
       "        text-align: right;\n",
       "    }\n",
       "</style>\n",
       "<table border=\"1\" class=\"dataframe\">\n",
       "  <thead>\n",
       "    <tr style=\"text-align: right;\">\n",
       "      <th></th>\n",
       "      <th>OBJECTID</th>\n",
       "      <th>Column_1</th>\n",
       "      <th>Column_2</th>\n",
       "      <th>Column_3</th>\n",
       "    </tr>\n",
       "  </thead>\n",
       "  <tbody>\n",
       "    <tr>\n",
       "      <th>1</th>\n",
       "      <td>1</td>\n",
       "      <td>3</td>\n",
       "      <td>4</td>\n",
       "      <td>0.2</td>\n",
       "    </tr>\n",
       "  </tbody>\n",
       "</table>\n",
       "</div>"
      ],
      "text/plain": [
       "   OBJECTID  Column_1  Column_2  Column_3\n",
       "1         1         3         4       0.2"
      ]
     },
     "execution_count": 69,
     "metadata": {},
     "output_type": "execute_result"
    }
   ],
   "source": [
    "csv1.set_index('OBJECTID')\n",
    "csv1[csv1['OBJECTID'] == 1]"
   ]
  },
  {
   "cell_type": "code",
   "execution_count": 70,
   "id": "e0abc93e",
   "metadata": {},
   "outputs": [],
   "source": [
    "new_column= ['Not', 'Odd', 'Even', 'Odd', 'Even', 'Odd']"
   ]
  },
  {
   "cell_type": "code",
   "execution_count": 71,
   "id": "a6eb6261",
   "metadata": {},
   "outputs": [
    {
     "data": {
      "text/html": [
       "<div>\n",
       "<style scoped>\n",
       "    .dataframe tbody tr th:only-of-type {\n",
       "        vertical-align: middle;\n",
       "    }\n",
       "\n",
       "    .dataframe tbody tr th {\n",
       "        vertical-align: top;\n",
       "    }\n",
       "\n",
       "    .dataframe thead th {\n",
       "        text-align: right;\n",
       "    }\n",
       "</style>\n",
       "<table border=\"1\" class=\"dataframe\">\n",
       "  <thead>\n",
       "    <tr style=\"text-align: right;\">\n",
       "      <th></th>\n",
       "      <th>OBJECTID</th>\n",
       "      <th>Column_1</th>\n",
       "      <th>Column_2</th>\n",
       "      <th>Column_3</th>\n",
       "      <th>Column_4</th>\n",
       "    </tr>\n",
       "  </thead>\n",
       "  <tbody>\n",
       "    <tr>\n",
       "      <th>0</th>\n",
       "      <td>0</td>\n",
       "      <td>1</td>\n",
       "      <td>2</td>\n",
       "      <td>0.1</td>\n",
       "      <td>Not</td>\n",
       "    </tr>\n",
       "    <tr>\n",
       "      <th>1</th>\n",
       "      <td>1</td>\n",
       "      <td>3</td>\n",
       "      <td>4</td>\n",
       "      <td>0.2</td>\n",
       "      <td>Odd</td>\n",
       "    </tr>\n",
       "    <tr>\n",
       "      <th>2</th>\n",
       "      <td>2</td>\n",
       "      <td>5</td>\n",
       "      <td>6</td>\n",
       "      <td>0.3</td>\n",
       "      <td>Even</td>\n",
       "    </tr>\n",
       "    <tr>\n",
       "      <th>3</th>\n",
       "      <td>3</td>\n",
       "      <td>7</td>\n",
       "      <td>8</td>\n",
       "      <td>0.4</td>\n",
       "      <td>Odd</td>\n",
       "    </tr>\n",
       "    <tr>\n",
       "      <th>4</th>\n",
       "      <td>4</td>\n",
       "      <td>9</td>\n",
       "      <td>10</td>\n",
       "      <td>0.5</td>\n",
       "      <td>Even</td>\n",
       "    </tr>\n",
       "    <tr>\n",
       "      <th>5</th>\n",
       "      <td>5</td>\n",
       "      <td>11</td>\n",
       "      <td>12</td>\n",
       "      <td>0.6</td>\n",
       "      <td>Odd</td>\n",
       "    </tr>\n",
       "  </tbody>\n",
       "</table>\n",
       "</div>"
      ],
      "text/plain": [
       "   OBJECTID  Column_1  Column_2  Column_3 Column_4\n",
       "0         0         1         2       0.1      Not\n",
       "1         1         3         4       0.2      Odd\n",
       "2         2         5         6       0.3     Even\n",
       "3         3         7         8       0.4      Odd\n",
       "4         4         9        10       0.5     Even\n",
       "5         5        11        12       0.6      Odd"
      ]
     },
     "execution_count": 71,
     "metadata": {},
     "output_type": "execute_result"
    }
   ],
   "source": [
    "csv1['Column_4'] = new_column\n",
    "csv1"
   ]
  },
  {
   "cell_type": "code",
   "execution_count": 72,
   "id": "c1065273",
   "metadata": {},
   "outputs": [
    {
     "data": {
      "text/plain": [
       "6"
      ]
     },
     "execution_count": 72,
     "metadata": {},
     "output_type": "execute_result"
    }
   ],
   "source": [
    "#Number of unique Value\n",
    "csv1['Column_1'].nunique()"
   ]
  },
  {
   "cell_type": "code",
   "execution_count": 73,
   "id": "f7386e14",
   "metadata": {},
   "outputs": [
    {
     "data": {
      "text/plain": [
       "Column_4\n",
       "Even    8\n",
       "Not     2\n",
       "Odd     8\n",
       "Name: Column_2, dtype: int64"
      ]
     },
     "execution_count": 73,
     "metadata": {},
     "output_type": "execute_result"
    }
   ],
   "source": [
    "#Find average values based on subgroups\n",
    "csv1.groupby('Column_4').mean()['Column_2']"
   ]
  },
  {
   "cell_type": "code",
   "execution_count": 74,
   "id": "99ae981c",
   "metadata": {},
   "outputs": [
    {
     "data": {
      "image/png": "[encoded data removed]",
      "text/plain": [
       "<Figure size 432x288 with 1 Axes>"
      ]
     },
     "metadata": {
      "needs_background": "light"
     },
     "output_type": "display_data"
    }
   ],
   "source": [
    "#plot a bar chart \n",
    "ax = csv1.plot.bar(x='Column_4', y='Column_3', color='yellow', rot=0)"
   ]
  },
  {
   "cell_type": "code",
   "execution_count": 75,
   "id": "1abb51fe",
   "metadata": {},
   "outputs": [
    {
     "data": {
      "image/png": "[encoded data removed]",
      "text/plain": [
       "<Figure size 432x288 with 1 Axes>"
      ]
     },
     "metadata": {
      "needs_background": "light"
     },
     "output_type": "display_data"
    }
   ],
   "source": [
    "#plot a scatterplot\n",
    "ax1 = csv1.plot.scatter(x='Column_1',\n",
    "                      y='Column_3',\n",
    "                      color='Red')"
   ]
  },
  {
   "cell_type": "code",
   "execution_count": 78,
   "id": "237ae460",
   "metadata": {},
   "outputs": [],
   "source": [
    "#pivot tables using pandas\n",
    "new_column2= ['North','South','North','South','North','South']\n",
    "csv1['Column_5'] = new_column2\n",
    "\n",
    "table = pd.pivot_table(csv1, values='Column_1', index=['OBJECTID', 'Column_4'], columns=['Column_5'], aggfunc=np.sum)"
   ]
  },
  {
   "cell_type": "code",
   "execution_count": 79,
   "id": "d5dfed59",
   "metadata": {},
   "outputs": [
    {
     "data": {
      "text/html": [
       "<div>\n",
       "<style scoped>\n",
       "    .dataframe tbody tr th:only-of-type {\n",
       "        vertical-align: middle;\n",
       "    }\n",
       "\n",
       "    .dataframe tbody tr th {\n",
       "        vertical-align: top;\n",
       "    }\n",
       "\n",
       "    .dataframe thead th {\n",
       "        text-align: right;\n",
       "    }\n",
       "</style>\n",
       "<table border=\"1\" class=\"dataframe\">\n",
       "  <thead>\n",
       "    <tr style=\"text-align: right;\">\n",
       "      <th></th>\n",
       "      <th>Column_5</th>\n",
       "      <th>North</th>\n",
       "      <th>South</th>\n",
       "    </tr>\n",
       "    <tr>\n",
       "      <th>OBJECTID</th>\n",
       "      <th>Column_4</th>\n",
       "      <th></th>\n",
       "      <th></th>\n",
       "    </tr>\n",
       "  </thead>\n",
       "  <tbody>\n",
       "    <tr>\n",
       "      <th>0</th>\n",
       "      <th>Not</th>\n",
       "      <td>1.0</td>\n",
       "      <td>NaN</td>\n",
       "    </tr>\n",
       "    <tr>\n",
       "      <th>1</th>\n",
       "      <th>Odd</th>\n",
       "      <td>NaN</td>\n",
       "      <td>3.0</td>\n",
       "    </tr>\n",
       "    <tr>\n",
       "      <th>2</th>\n",
       "      <th>Even</th>\n",
       "      <td>5.0</td>\n",
       "      <td>NaN</td>\n",
       "    </tr>\n",
       "    <tr>\n",
       "      <th>3</th>\n",
       "      <th>Odd</th>\n",
       "      <td>NaN</td>\n",
       "      <td>7.0</td>\n",
       "    </tr>\n",
       "    <tr>\n",
       "      <th>4</th>\n",
       "      <th>Even</th>\n",
       "      <td>9.0</td>\n",
       "      <td>NaN</td>\n",
       "    </tr>\n",
       "    <tr>\n",
       "      <th>5</th>\n",
       "      <th>Odd</th>\n",
       "      <td>NaN</td>\n",
       "      <td>11.0</td>\n",
       "    </tr>\n",
       "  </tbody>\n",
       "</table>\n",
       "</div>"
      ],
      "text/plain": [
       "Column_5           North  South\n",
       "OBJECTID Column_4              \n",
       "0        Not         1.0    NaN\n",
       "1        Odd         NaN    3.0\n",
       "2        Even        5.0    NaN\n",
       "3        Odd         NaN    7.0\n",
       "4        Even        9.0    NaN\n",
       "5        Odd         NaN   11.0"
      ]
     },
     "execution_count": 79,
     "metadata": {},
     "output_type": "execute_result"
    }
   ],
   "source": [
    "table"
   ]
  },
  {
   "cell_type": "code",
   "execution_count": 86,
   "id": "d66b80fe",
   "metadata": {},
   "outputs": [],
   "source": [
    "column_list = list(csv1)"
   ]
  },
  {
   "cell_type": "markdown",
   "id": "3b9934ab",
   "metadata": {},
   "source": [
    "Of course, it is possible to create new data in your table as well. Below we use the sum function to add a column that is the sum of the row"
   ]
  },
  {
   "cell_type": "code",
   "execution_count": 88,
   "id": "dd22ee03",
   "metadata": {},
   "outputs": [
    {
     "data": {
      "text/html": [
       "<div>\n",
       "<style scoped>\n",
       "    .dataframe tbody tr th:only-of-type {\n",
       "        vertical-align: middle;\n",
       "    }\n",
       "\n",
       "    .dataframe tbody tr th {\n",
       "        vertical-align: top;\n",
       "    }\n",
       "\n",
       "    .dataframe thead th {\n",
       "        text-align: right;\n",
       "    }\n",
       "</style>\n",
       "<table border=\"1\" class=\"dataframe\">\n",
       "  <thead>\n",
       "    <tr style=\"text-align: right;\">\n",
       "      <th></th>\n",
       "      <th>OBJECTID</th>\n",
       "      <th>Column_1</th>\n",
       "      <th>Column_2</th>\n",
       "      <th>Column_3</th>\n",
       "      <th>Column_4</th>\n",
       "      <th>Column_5</th>\n",
       "      <th>sum</th>\n",
       "    </tr>\n",
       "  </thead>\n",
       "  <tbody>\n",
       "    <tr>\n",
       "      <th>0</th>\n",
       "      <td>0</td>\n",
       "      <td>1</td>\n",
       "      <td>2</td>\n",
       "      <td>0.1</td>\n",
       "      <td>Not</td>\n",
       "      <td>North</td>\n",
       "      <td>3.1</td>\n",
       "    </tr>\n",
       "    <tr>\n",
       "      <th>1</th>\n",
       "      <td>1</td>\n",
       "      <td>3</td>\n",
       "      <td>4</td>\n",
       "      <td>0.2</td>\n",
       "      <td>Odd</td>\n",
       "      <td>South</td>\n",
       "      <td>8.2</td>\n",
       "    </tr>\n",
       "    <tr>\n",
       "      <th>2</th>\n",
       "      <td>2</td>\n",
       "      <td>5</td>\n",
       "      <td>6</td>\n",
       "      <td>0.3</td>\n",
       "      <td>Even</td>\n",
       "      <td>North</td>\n",
       "      <td>13.3</td>\n",
       "    </tr>\n",
       "    <tr>\n",
       "      <th>3</th>\n",
       "      <td>3</td>\n",
       "      <td>7</td>\n",
       "      <td>8</td>\n",
       "      <td>0.4</td>\n",
       "      <td>Odd</td>\n",
       "      <td>South</td>\n",
       "      <td>18.4</td>\n",
       "    </tr>\n",
       "    <tr>\n",
       "      <th>4</th>\n",
       "      <td>4</td>\n",
       "      <td>9</td>\n",
       "      <td>10</td>\n",
       "      <td>0.5</td>\n",
       "      <td>Even</td>\n",
       "      <td>North</td>\n",
       "      <td>23.5</td>\n",
       "    </tr>\n",
       "    <tr>\n",
       "      <th>5</th>\n",
       "      <td>5</td>\n",
       "      <td>11</td>\n",
       "      <td>12</td>\n",
       "      <td>0.6</td>\n",
       "      <td>Odd</td>\n",
       "      <td>South</td>\n",
       "      <td>28.6</td>\n",
       "    </tr>\n",
       "  </tbody>\n",
       "</table>\n",
       "</div>"
      ],
      "text/plain": [
       "   OBJECTID  Column_1  Column_2  Column_3 Column_4 Column_5   sum\n",
       "0         0         1         2       0.1      Not    North   3.1\n",
       "1         1         3         4       0.2      Odd    South   8.2\n",
       "2         2         5         6       0.3     Even    North  13.3\n",
       "3         3         7         8       0.4      Odd    South  18.4\n",
       "4         4         9        10       0.5     Even    North  23.5\n",
       "5         5        11        12       0.6      Odd    South  28.6"
      ]
     },
     "execution_count": 88,
     "metadata": {},
     "output_type": "execute_result"
    }
   ],
   "source": [
    "#create new column that is the sum of all the rows. Axis = 1 means columns Axis = 0 means rows\n",
    "csv1[\"sum\"] = csv1[column_list].sum(axis=1)\n",
    "csv1"
   ]
  },
  {
   "cell_type": "code",
   "execution_count": null,
   "id": "1638e7de-bad1-4014-b5c9-7c10e9f81875",
   "metadata": {},
   "outputs": [],
   "source": [
    "#You can remove columns and rows using drop. Here we are removing the sum row we just created\n",
    "csv1.drop('sum', axis=1, inplace=True)"
   ]
  },
  {
   "cell_type": "code",
   "execution_count": 83,
   "id": "fafd6c52",
   "metadata": {},
   "outputs": [],
   "source": [
    "table.to_csv(r'C:\\Users\\raechel\\Desktop\\export_dataframe.csv')"
   ]
  },
  {
   "cell_type": "markdown",
   "id": "8fca339e",
   "metadata": {},
   "source": [
    "Let's try to use a simple function to double the values in Column 3. A lambda function is a small anonymous function which returns an object."
   ]
  },
  {
   "cell_type": "code",
   "execution_count": 22,
   "id": "0f7dbe13",
   "metadata": {},
   "outputs": [],
   "source": [
    "#First we need to define our function. \n",
    "doubler = lambda x: x*2"
   ]
  },
  {
   "cell_type": "code",
   "execution_count": 23,
   "id": "a6be1c78",
   "metadata": {},
   "outputs": [
    {
     "data": {
      "text/plain": [
       "0    0.2\n",
       "1    0.4\n",
       "2    0.6\n",
       "3    0.8\n",
       "4    1.0\n",
       "5    1.2\n",
       "Name: Column_3, dtype: float64"
      ]
     },
     "execution_count": 23,
     "metadata": {},
     "output_type": "execute_result"
    }
   ],
   "source": [
    "#Then we need to use that function with one of our columns. In our case we are using Column 3\n",
    "csv1['Column_3'].apply(doubler)"
   ]
  },
  {
   "cell_type": "code",
   "execution_count": 24,
   "id": "7990d2ed",
   "metadata": {},
   "outputs": [
    {
     "data": {
      "text/html": [
       "<div>\n",
       "<style scoped>\n",
       "    .dataframe tbody tr th:only-of-type {\n",
       "        vertical-align: middle;\n",
       "    }\n",
       "\n",
       "    .dataframe tbody tr th {\n",
       "        vertical-align: top;\n",
       "    }\n",
       "\n",
       "    .dataframe thead th {\n",
       "        text-align: right;\n",
       "    }\n",
       "</style>\n",
       "<table border=\"1\" class=\"dataframe\">\n",
       "  <thead>\n",
       "    <tr style=\"text-align: right;\">\n",
       "      <th></th>\n",
       "      <th>OBJECTID</th>\n",
       "      <th>Column_1</th>\n",
       "      <th>Column_2</th>\n",
       "      <th>Column_3</th>\n",
       "    </tr>\n",
       "  </thead>\n",
       "  <tbody>\n",
       "    <tr>\n",
       "      <th>0</th>\n",
       "      <td>0</td>\n",
       "      <td>1</td>\n",
       "      <td>2</td>\n",
       "      <td>0.1</td>\n",
       "    </tr>\n",
       "    <tr>\n",
       "      <th>1</th>\n",
       "      <td>1</td>\n",
       "      <td>3</td>\n",
       "      <td>4</td>\n",
       "      <td>0.2</td>\n",
       "    </tr>\n",
       "    <tr>\n",
       "      <th>2</th>\n",
       "      <td>2</td>\n",
       "      <td>5</td>\n",
       "      <td>6</td>\n",
       "      <td>0.3</td>\n",
       "    </tr>\n",
       "    <tr>\n",
       "      <th>3</th>\n",
       "      <td>3</td>\n",
       "      <td>7</td>\n",
       "      <td>8</td>\n",
       "      <td>0.4</td>\n",
       "    </tr>\n",
       "    <tr>\n",
       "      <th>4</th>\n",
       "      <td>4</td>\n",
       "      <td>9</td>\n",
       "      <td>10</td>\n",
       "      <td>0.5</td>\n",
       "    </tr>\n",
       "    <tr>\n",
       "      <th>5</th>\n",
       "      <td>5</td>\n",
       "      <td>11</td>\n",
       "      <td>12</td>\n",
       "      <td>0.6</td>\n",
       "    </tr>\n",
       "  </tbody>\n",
       "</table>\n",
       "</div>"
      ],
      "text/plain": [
       "   OBJECTID  Column_1  Column_2  Column_3\n",
       "0         0         1         2       0.1\n",
       "1         1         3         4       0.2\n",
       "2         2         5         6       0.3\n",
       "3         3         7         8       0.4\n",
       "4         4         9        10       0.5\n",
       "5         5        11        12       0.6"
      ]
     },
     "execution_count": 24,
     "metadata": {},
     "output_type": "execute_result"
    }
   ],
   "source": [
    "#Note that the application of the lambda function does not change the actual values in your csv1"
   ]
  },
  {
   "cell_type": "code",
   "execution_count": 33,
   "id": "853dcdcd",
   "metadata": {},
   "outputs": [
    {
     "name": "stdout",
     "output_type": "stream",
     "text": [
      "<filter object at 0x000001D6F20FF220>\n"
     ]
    }
   ],
   "source": [
    "#To creae a dataframe with the lambda values, simply write it to a new variable. \n",
    "csv2 = filter(lambda n : n%5 == 0, csv1)\n",
    "print(csv2)"
   ]
  },
  {
   "cell_type": "code",
   "execution_count": 31,
   "id": "cdcf6b09",
   "metadata": {},
   "outputs": [
    {
     "name": "stdout",
     "output_type": "stream",
     "text": [
      "<filter object at 0x000001D6F20A9B20>\n"
     ]
    }
   ],
   "source": [
    "print(csv2)"
   ]
  },
  {
   "cell_type": "code",
   "execution_count": null,
   "id": "b9f1aade",
   "metadata": {},
   "outputs": [],
   "source": []
  }
 ],
 "metadata": {
  "kernelspec": {
   "display_name": "Python 3",
   "language": "python",
   "name": "python3"
  },
  "language_info": {
   "codemirror_mode": {
    "name": "ipython",
    "version": 3
   },
   "file_extension": ".py",
   "mimetype": "text/x-python",
   "name": "python",
   "nbconvert_exporter": "python",
   "pygments_lexer": "ipython3",
   "version": "3.8.5"
  }
 },
 "nbformat": 4,
 "nbformat_minor": 5
}
